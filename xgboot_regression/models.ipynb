{
 "cells": [
  {
   "cell_type": "markdown",
   "id": "a63543f8",
   "metadata": {},
   "source": [
    "## Train two models"
   ]
  },
  {
   "cell_type": "code",
   "execution_count": null,
   "id": "b86d4569",
   "metadata": {},
   "outputs": [],
   "source": [
    "from sklearn.linear_model import LinearRegression\n",
    "import xgboost"
   ]
  },
  {
   "cell_type": "code",
   "execution_count": null,
   "id": "3bcac85a",
   "metadata": {},
   "outputs": [],
   "source": [
    "models =  {\n",
    "    \"Linear Regression\": LinearRegression(),\n",
    "    \"XGBoost Regressor\": xgboost.XGBRegressor(objective='reg:squarederror', n_estimators=100, learning_rate=0.1)\n",
    "}"
   ]
  }
 ],
 "metadata": {
  "language_info": {
   "name": "python"
  }
 },
 "nbformat": 4,
 "nbformat_minor": 5
}
